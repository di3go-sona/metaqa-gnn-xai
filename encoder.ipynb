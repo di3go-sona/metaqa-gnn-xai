{
 "cells": [
  {
   "cell_type": "code",
   "execution_count": 2,
   "metadata": {},
   "outputs": [],
   "source": [
    "# !pip install torch==1.10\n",
    "# !pip install torch-scatter -f https://data.pyg.org/whl/torch-1.10.html\n",
    "# !pip install torch-sparse -f https://data.pyg.org/whl/torch-1.10.html\n",
    "# !pip install torch-geometric\n",
    "# !pip install ipykernel\n",
    "# !pip install wandb"
   ]
  },
  {
   "cell_type": "code",
   "execution_count": 3,
   "metadata": {},
   "outputs": [
    {
     "name": "stderr",
     "output_type": "stream",
     "text": [
      "Failed to detect the name of this notebook, you can set it manually with the WANDB_NOTEBOOK_NAME environment variable to enable code saving.\n",
      "\u001b[34m\u001b[1mwandb\u001b[0m: Currently logged in as: \u001b[33mdi3go\u001b[0m (use `wandb login --relogin` to force relogin)\n",
      "/Users/di3go/Desktop/neural-graph/venv/lib/python3.9/site-packages/IPython/html.py:12: ShimWarning: The `IPython.html` package has been deprecated since IPython 4.0. You should import from `notebook` instead. `IPython.html.widgets` has moved to `ipywidgets`.\n",
      "  warn(\"The `IPython.html` package has been deprecated since IPython 4.0. \"\n"
     ]
    },
    {
     "data": {
      "text/html": [
       "\n",
       "                    Syncing run <strong><a href=\"https://wandb.ai/link-prediction-gnn/relational-autoencoder/runs/fw2g7vu5\" target=\"_blank\">exalted-yogurt-14</a></strong> to <a href=\"https://wandb.ai/link-prediction-gnn/relational-autoencoder\" target=\"_blank\">Weights & Biases</a> (<a href=\"https://docs.wandb.com/integrations/jupyter.html\" target=\"_blank\">docs</a>).<br/>\n",
       "\n",
       "                "
      ],
      "text/plain": [
       "<IPython.core.display.HTML object>"
      ]
     },
     "metadata": {},
     "output_type": "display_data"
    }
   ],
   "source": [
    "import wandb\n",
    "\n",
    "wandb.init(project=\"relational-autoencoder\", entity=\"link-prediction-gnn\", )\n",
    "wandb.config = {\n",
    "  \"learning_rate\": 0.005,\n",
    "  \"epochs\": 25,\n",
    "}\n"
   ]
  },
  {
   "cell_type": "code",
   "execution_count": 4,
   "metadata": {},
   "outputs": [],
   "source": [
    "import torch, torch_geometric"
   ]
  },
  {
   "cell_type": "code",
   "execution_count": 5,
   "metadata": {},
   "outputs": [],
   "source": [
    "DS_PATH= './FB15k-237'\n",
    "DS_NAME= 'FB15k-237'\n",
    "ds = torch_geometric.datasets.RelLinkPredDataset(DS_PATH, DS_NAME)\n",
    "\n",
    "edge_indices_train = ds.data.edge_stores[0]['train_edge_index']\n",
    "edge_types_train = ds.data.edge_stores[0]['train_edge_type']\n",
    "\n",
    "edges_test = ds.data.edge_stores[0]['test_edge_index'].detach()\n",
    "edges_type_test = ds.data.edge_stores[0]['test_edge_type'].detach()"
   ]
  },
  {
   "cell_type": "code",
   "execution_count": 6,
   "metadata": {},
   "outputs": [],
   "source": [
    "N_RELATIONS = 237\n",
    "N_NODES = ds.data.num_nodes\n",
    "NODE_EMBEDDING_SIZE = 16\n",
    "\n",
    "rgcn = torch_geometric.nn.RGCNConv(N_NODES, NODE_EMBEDDING_SIZE, N_RELATIONS)\n",
    "r_matrices = torch.randn(N_RELATIONS, NODE_EMBEDDING_SIZE, NODE_EMBEDDING_SIZE)\n"
   ]
  },
  {
   "cell_type": "code",
   "execution_count": 7,
   "metadata": {},
   "outputs": [
    {
     "name": "stdout",
     "output_type": "stream",
     "text": [
      "Epoch: 0 | RID: 0 | Acc: 0.500702977180481 \n",
      "Epoch: 0 | RID: 1 | Acc: 0.5009181499481201 \n",
      "Epoch: 0 | RID: 2 | Acc: 0.4986039102077484 \n",
      "Epoch: 1 | RID: 0 | Acc: 0.38951170444488525 \n",
      "Epoch: 1 | RID: 1 | Acc: 0.409082293510437 \n",
      "Epoch: 1 | RID: 2 | Acc: 0.2604365646839142 \n",
      "Epoch: 2 | RID: 0 | Acc: 0.7338242530822754 \n",
      "Epoch: 2 | RID: 1 | Acc: 0.5953525304794312 \n",
      "Epoch: 2 | RID: 2 | Acc: 0.7759602665901184 \n",
      "Epoch: 3 | RID: 0 | Acc: 0.9019911885261536 \n",
      "Epoch: 3 | RID: 1 | Acc: 0.6864050030708313 \n",
      "Epoch: 3 | RID: 2 | Acc: 0.8584794402122498 \n",
      "Epoch: 4 | RID: 0 | Acc: 0.9749388098716736 \n",
      "Epoch: 4 | RID: 1 | Acc: 0.7927309274673462 \n",
      "Epoch: 4 | RID: 2 | Acc: 0.8829113841056824 \n",
      "Epoch: 5 | RID: 0 | Acc: 0.985205352306366 \n",
      "Epoch: 5 | RID: 1 | Acc: 0.8687930703163147 \n",
      "Epoch: 5 | RID: 2 | Acc: 0.9222114682197571 \n",
      "Epoch: 6 | RID: 0 | Acc: 0.9881077408790588 \n",
      "Epoch: 6 | RID: 1 | Acc: 0.9233533143997192 \n",
      "Epoch: 6 | RID: 2 | Acc: 0.9508810043334961 \n",
      "Epoch: 7 | RID: 0 | Acc: 0.9891273379325867 \n",
      "Epoch: 7 | RID: 1 | Acc: 0.969214916229248 \n",
      "Epoch: 7 | RID: 2 | Acc: 0.9622225165367126 \n",
      "Epoch: 8 | RID: 0 | Acc: 0.9893233180046082 \n",
      "Epoch: 8 | RID: 1 | Acc: 0.9921151399612427 \n",
      "Epoch: 8 | RID: 2 | Acc: 0.9663629531860352 \n",
      "Epoch: 9 | RID: 0 | Acc: 0.989190936088562 \n",
      "Epoch: 9 | RID: 1 | Acc: 0.9965551495552063 \n",
      "Epoch: 9 | RID: 2 | Acc: 0.9690183997154236 \n",
      "Epoch: 10 | RID: 0 | Acc: 0.9889621734619141 \n",
      "Epoch: 10 | RID: 1 | Acc: 0.9969369173049927 \n",
      "Epoch: 10 | RID: 2 | Acc: 0.9713228344917297 \n",
      "Epoch: 11 | RID: 0 | Acc: 0.9888196587562561 \n",
      "Epoch: 11 | RID: 1 | Acc: 0.9970679879188538 \n",
      "Epoch: 11 | RID: 2 | Acc: 0.9734698534011841 \n",
      "Epoch: 12 | RID: 0 | Acc: 0.98886638879776 \n",
      "Epoch: 12 | RID: 1 | Acc: 0.9972041249275208 \n",
      "Epoch: 12 | RID: 2 | Acc: 0.9756128191947937 \n",
      "Epoch: 13 | RID: 0 | Acc: 0.98911452293396 \n",
      "Epoch: 13 | RID: 1 | Acc: 0.9973741769790649 \n",
      "Epoch: 13 | RID: 2 | Acc: 0.9779247641563416 \n",
      "Epoch: 14 | RID: 0 | Acc: 0.9895683526992798 \n",
      "Epoch: 14 | RID: 1 | Acc: 0.9975427389144897 \n",
      "Epoch: 14 | RID: 2 | Acc: 0.9804836511611938 \n",
      "Epoch: 15 | RID: 0 | Acc: 0.9902017116546631 \n",
      "Epoch: 15 | RID: 1 | Acc: 0.9976680278778076 \n",
      "Epoch: 15 | RID: 2 | Acc: 0.983166515827179 \n",
      "Epoch: 16 | RID: 0 | Acc: 0.9909875988960266 \n",
      "Epoch: 16 | RID: 1 | Acc: 0.9977838397026062 \n",
      "Epoch: 16 | RID: 2 | Acc: 0.9856387972831726 \n",
      "Epoch: 17 | RID: 0 | Acc: 0.9918364882469177 \n",
      "Epoch: 17 | RID: 1 | Acc: 0.997956395149231 \n",
      "Epoch: 17 | RID: 2 | Acc: 0.9876196384429932 \n",
      "Epoch: 18 | RID: 0 | Acc: 0.992743730545044 \n",
      "Epoch: 18 | RID: 1 | Acc: 0.9980471730232239 \n",
      "Epoch: 18 | RID: 2 | Acc: 0.9891356229782104 \n",
      "Epoch: 19 | RID: 0 | Acc: 0.993611752986908 \n",
      "Epoch: 19 | RID: 1 | Acc: 0.9980821013450623 \n",
      "Epoch: 19 | RID: 2 | Acc: 0.990674614906311 \n",
      "Epoch: 20 | RID: 0 | Acc: 0.9943506121635437 \n",
      "Epoch: 20 | RID: 1 | Acc: 0.9981284141540527 \n",
      "Epoch: 20 | RID: 2 | Acc: 0.99270099401474 \n",
      "Epoch: 21 | RID: 0 | Acc: 0.9949867129325867 \n",
      "Epoch: 21 | RID: 1 | Acc: 0.9981496334075928 \n",
      "Epoch: 21 | RID: 2 | Acc: 0.9947527050971985 \n",
      "Epoch: 22 | RID: 0 | Acc: 0.995553195476532 \n",
      "Epoch: 22 | RID: 1 | Acc: 0.9981701374053955 \n",
      "Epoch: 22 | RID: 2 | Acc: 0.9963645339012146 \n",
      "Epoch: 23 | RID: 0 | Acc: 0.9959983229637146 \n",
      "Epoch: 23 | RID: 1 | Acc: 0.9982113838195801 \n",
      "Epoch: 23 | RID: 2 | Acc: 0.997473955154419 \n",
      "Epoch: 24 | RID: 0 | Acc: 0.9964053630828857 \n",
      "Epoch: 24 | RID: 1 | Acc: 0.9982510209083557 \n",
      "Epoch: 24 | RID: 2 | Acc: 0.9981938004493713 \n"
     ]
    },
    {
     "name": "stderr",
     "output_type": "stream",
     "text": [
      "wandb: Network error (ConnectionError), entering retry loop.\n"
     ]
    }
   ],
   "source": [
    "import matplotlib.pyplot as plt\n",
    "\n",
    "# Create binary dense matrix for relation type == 1\n",
    "\n",
    "train_links_truth = torch.sparse_coo_tensor(edge_indices_train, edge_types_train, (N_NODES,N_NODES) ).to_dense().float()\n",
    "# test_links_truth = torch.sparse_coo_tensor(Xi_test[:,test_f], Xr_test[test_f], (N_NODES,N_NODES)).to_dense().float()\n",
    "\n",
    "criterion = torch.nn.BCEWithLogitsLoss()\n",
    "optimizer = torch.optim.Adam(rgcn.parameters(), wandb.config['learning_rate'])\n",
    "\n",
    "for epoch in range(wandb.config['epochs']):\n",
    "    nodes_embeddings = rgcn(None, edge_indices_train, edge_types_train)\n",
    "    optimizer.zero_grad()\n",
    "    # edges_scores = torch.zeros((N_RELATIONS, N_NODES, N_NODES))\n",
    "    tot_loss = torch.zeros(1)\n",
    "    tot_acc = 0\n",
    "    for r_id, r_mat in enumerate(r_matrices):\n",
    "        # print(f'relation {r_id}')\n",
    "        edge_scores = nodes_embeddings @ r_mat @ nodes_embeddings.T\n",
    "        # print('scored', edge_scores)\n",
    "        edge_tags = edge_scores.sigmoid().round()\n",
    "        # print('tagged', edge_tags)\n",
    "\n",
    "        r_indices = edge_indices_train[:, edge_types_train == r_id]\n",
    "        edge_tags_truth = torch.zeros((N_NODES, N_NODES))\n",
    "        edge_tags_truth[r_indices] = 1\n",
    "        \n",
    "        loss = criterion(edge_scores, edge_tags_truth)\n",
    "        acc = ( 1 - (edge_tags - edge_tags_truth).abs()).sum() / (N_NODES**2)\n",
    "        \n",
    "        tot_loss += loss\n",
    "        tot_acc += (tot_acc * (r_id - 1) + acc ) / r_id\n",
    "        print(f\"Epoch: {epoch} | RID: {r_id} | Acc: {acc} \")\n",
    "\n",
    "        if r_id > 1:\n",
    "            break\n",
    "\n",
    "    tot_loss.backward()\n",
    "    optimizer.step()\n",
    "    wandb.log({\"loss\": loss})\n",
    "    wandb.log({\"accuracy\": acc})\n"
   ]
  }
 ],
 "metadata": {
  "interpreter": {
   "hash": "c6a7f5f1fbe7c494e2646c81a6634948a4e3403bd00341581b3ab0a79caa9e66"
  },
  "kernelspec": {
   "display_name": "Python 3.9.9 64-bit ('venv': venv)",
   "language": "python",
   "name": "python3"
  },
  "language_info": {
   "codemirror_mode": {
    "name": "ipython",
    "version": 3
   },
   "file_extension": ".py",
   "mimetype": "text/x-python",
   "name": "python",
   "nbconvert_exporter": "python",
   "pygments_lexer": "ipython3",
   "version": "3.9.9"
  },
  "orig_nbformat": 4
 },
 "nbformat": 4,
 "nbformat_minor": 2
}
