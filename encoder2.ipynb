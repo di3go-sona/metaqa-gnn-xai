{
 "cells": [
  {
   "cell_type": "code",
   "execution_count": 3,
   "metadata": {},
   "outputs": [],
   "source": [
    "# !pip install torch==1.10\n",
    "# !pip install torch-scatter -f https://data.pyg.org/whl/torch-1.10.html\n",
    "# !pip install torch-sparse -f https://data.pyg.org/whl/torch-1.10.html\n",
    "# !pip install torch-geometric\n",
    "# !pip install ipykernel\n",
    "# !pip install wandb"
   ]
  },
  {
   "cell_type": "code",
   "execution_count": 4,
   "metadata": {},
   "outputs": [
    {
     "name": "stderr",
     "output_type": "stream",
     "text": [
      "Failed to detect the name of this notebook, you can set it manually with the WANDB_NOTEBOOK_NAME environment variable to enable code saving.\n",
      "\u001b[34m\u001b[1mwandb\u001b[0m: Currently logged in as: \u001b[33mdi3go\u001b[0m (use `wandb login --relogin` to force relogin)\n",
      "/Users/di3go/Desktop/neural-graph/venv/lib/python3.9/site-packages/IPython/html.py:12: ShimWarning: The `IPython.html` package has been deprecated since IPython 4.0. You should import from `notebook` instead. `IPython.html.widgets` has moved to `ipywidgets`.\n",
      "  warn(\"The `IPython.html` package has been deprecated since IPython 4.0. \"\n"
     ]
    },
    {
     "data": {
      "text/html": [
       "\n",
       "                    Syncing run <strong><a href=\"https://wandb.ai/link-prediction-gnn/relational-autoencoder/runs/188qcv8m\" target=\"_blank\">chocolate-river-16</a></strong> to <a href=\"https://wandb.ai/link-prediction-gnn/relational-autoencoder\" target=\"_blank\">Weights & Biases</a> (<a href=\"https://docs.wandb.com/integrations/jupyter.html\" target=\"_blank\">docs</a>).<br/>\n",
       "\n",
       "                "
      ],
      "text/plain": [
       "<IPython.core.display.HTML object>"
      ]
     },
     "metadata": {},
     "output_type": "display_data"
    }
   ],
   "source": [
    "import wandb\n",
    "\n",
    "wandb.init(project=\"relational-autoencoder\", entity=\"link-prediction-gnn\", )\n",
    "wandb.config = {\n",
    "  \"learning_rate\": 0.005,\n",
    "  \"epochs\": 25,\n",
    "}\n"
   ]
  },
  {
   "cell_type": "code",
   "execution_count": 5,
   "metadata": {},
   "outputs": [],
   "source": [
    "import torch, torch_geometric"
   ]
  },
  {
   "cell_type": "code",
   "execution_count": 6,
   "metadata": {},
   "outputs": [],
   "source": [
    "DS_PATH= './FB15k-237'\n",
    "DS_NAME= 'FB15k-237'\n",
    "ds = torch_geometric.datasets.RelLinkPredDataset(DS_PATH, DS_NAME)\n",
    "\n",
    "edge_indices_train = ds.data.edge_stores[0]['train_edge_index']\n",
    "edge_types_train = ds.data.edge_stores[0]['train_edge_type']\n",
    "\n",
    "edges_test = ds.data.edge_stores[0]['test_edge_index'].detach()\n",
    "edges_type_test = ds.data.edge_stores[0]['test_edge_type'].detach()"
   ]
  },
  {
   "cell_type": "code",
   "execution_count": 7,
   "metadata": {},
   "outputs": [],
   "source": [
    "N_RELATIONS = 237\n",
    "N_NODES = ds.data.num_nodes\n",
    "NODE_EMBEDDING_SIZE = 16\n",
    "\n",
    "rgcn = torch_geometric.nn.RGCNConv(N_NODES, NODE_EMBEDDING_SIZE, N_RELATIONS)\n",
    "r_matrices = torch.randn(N_RELATIONS, NODE_EMBEDDING_SIZE, NODE_EMBEDDING_SIZE)\n"
   ]
  },
  {
   "cell_type": "code",
   "execution_count": 8,
   "metadata": {},
   "outputs": [
    {
     "name": "stdout",
     "output_type": "stream",
     "text": [
      "Epoch: 0 | RID: 0 | Acc: 0.500076413154602 | Exp rate : 8.716093063354492 \n",
      "Epoch: 0 | RID: 1 | Acc: 0.5000501871109009 | Exp rate : 14.657217025756836 \n",
      "Epoch: 0 | RID: 2 | Acc: 0.499980092048645 | Exp rate : 1.7024117708206177 \n",
      "Epoch: 0 | RID: 3 | Acc: 0.49998733401298523 | Exp rate : 33.50543975830078 \n",
      "Epoch: 0 | RID: 4 | Acc: 0.5000250935554504 | Exp rate : 3.664473295211792 \n",
      "Epoch: 1 | RID: 0 | Acc: 0.4635230600833893 | Exp rate : 9.54342269897461 \n",
      "Epoch: 1 | RID: 1 | Acc: 0.6574075222015381 | Exp rate : 9.959146499633789 \n",
      "Epoch: 1 | RID: 2 | Acc: 0.46944522857666016 | Exp rate : 2.0579135417938232 \n",
      "Epoch: 1 | RID: 3 | Acc: 0.6832994818687439 | Exp rate : 20.9314022064209 \n",
      "Epoch: 1 | RID: 4 | Acc: 0.5766010284423828 | Exp rate : 2.9424221515655518 \n",
      "Epoch: 2 | RID: 0 | Acc: 0.8296726942062378 | Exp rate : 2.5666964054107666 \n",
      "Epoch: 2 | RID: 1 | Acc: 0.8780379295349121 | Exp rate : 3.0951712131500244 \n",
      "Epoch: 2 | RID: 2 | Acc: 0.4350912868976593 | Exp rate : 2.6464414596557617 \n",
      "Epoch: 2 | RID: 3 | Acc: 0.8901799321174622 | Exp rate : 7.006114482879639 \n",
      "Epoch: 2 | RID: 4 | Acc: 0.847894012928009 | Exp rate : 0.22510282695293427 \n",
      "Epoch: 3 | RID: 0 | Acc: 0.9380455017089844 | Exp rate : 0.26082125306129456 \n",
      "Epoch: 3 | RID: 1 | Acc: 0.9569554924964905 | Exp rate : 0.45720013976097107 \n",
      "Epoch: 3 | RID: 2 | Acc: 0.3907657265663147 | Exp rate : 3.0142993927001953 \n",
      "Epoch: 3 | RID: 3 | Acc: 0.9505557417869568 | Exp rate : 2.9105052947998047 \n",
      "Epoch: 3 | RID: 4 | Acc: 0.8635896444320679 | Exp rate : 0.005852403584867716 \n",
      "Epoch: 4 | RID: 0 | Acc: 0.9432523250579834 | Exp rate : 0.019819919019937515 \n",
      "Epoch: 4 | RID: 1 | Acc: 0.9659469127655029 | Exp rate : 0.04375378414988518 \n",
      "Epoch: 4 | RID: 2 | Acc: 0.3700723350048065 | Exp rate : 3.1363613605499268 \n",
      "Epoch: 4 | RID: 3 | Acc: 0.9769247174263 | Exp rate : 1.1394648551940918 \n",
      "Epoch: 4 | RID: 4 | Acc: 0.8636143207550049 | Exp rate : 0.0006897210841998458 \n",
      "Epoch: 5 | RID: 0 | Acc: 0.942770779132843 | Exp rate : 0.002368560992181301 \n",
      "Epoch: 5 | RID: 1 | Acc: 0.9660065174102783 | Exp rate : 0.0042790574952960014 \n",
      "Epoch: 5 | RID: 2 | Acc: 0.3620738089084625 | Exp rate : 3.1712682247161865 \n",
      "Epoch: 5 | RID: 3 | Acc: 0.9865517020225525 | Exp rate : 0.5039857029914856 \n",
      "Epoch: 5 | RID: 4 | Acc: 0.8635743856430054 | Exp rate : 0.0001291190565098077 \n",
      "Epoch: 6 | RID: 0 | Acc: 0.9426699280738831 | Exp rate : 0.00043992040446028113 \n",
      "Epoch: 6 | RID: 1 | Acc: 0.9659028649330139 | Exp rate : 0.000393769791116938 \n",
      "Epoch: 6 | RID: 2 | Acc: 0.3621998727321625 | Exp rate : 3.17142653465271 \n",
      "Epoch: 6 | RID: 3 | Acc: 0.9892137050628662 | Exp rate : 0.3531831204891205 \n",
      "Epoch: 6 | RID: 4 | Acc: 0.863561749458313 | Exp rate : 2.627442700031679e-05 \n",
      "Epoch: 7 | RID: 0 | Acc: 0.9426489472389221 | Exp rate : 7.099746289895847e-05 \n",
      "Epoch: 7 | RID: 1 | Acc: 0.9658898711204529 | Exp rate : 9.012336704472546e-06 \n",
      "Epoch: 7 | RID: 2 | Acc: 0.3696277141571045 | Exp rate : 3.14615797996521 \n",
      "Epoch: 7 | RID: 3 | Acc: 0.9901018142700195 | Exp rate : 0.3487250506877899 \n",
      "Epoch: 7 | RID: 4 | Acc: 0.8635591268539429 | Exp rate : 6.932566520845285e-06 \n",
      "Epoch: 8 | RID: 0 | Acc: 0.9426451921463013 | Exp rate : 5.112477083457634e-06 \n",
      "Epoch: 8 | RID: 1 | Acc: 0.9658894538879395 | Exp rate : 0.0 \n",
      "Epoch: 8 | RID: 2 | Acc: 0.38648343086242676 | Exp rate : 3.0887720584869385 \n",
      "Epoch: 8 | RID: 3 | Acc: 0.9908341765403748 | Exp rate : 0.38737502694129944 \n",
      "Epoch: 8 | RID: 4 | Acc: 0.8635584712028503 | Exp rate : 1.975781515284325e-06 \n",
      "Epoch: 9 | RID: 0 | Acc: 0.9426448345184326 | Exp rate : 0.0 \n",
      "Epoch: 9 | RID: 1 | Acc: 0.9658894538879395 | Exp rate : 0.0 \n",
      "Epoch: 9 | RID: 2 | Acc: 0.4160815179347992 | Exp rate : 2.9880027770996094 \n",
      "Epoch: 9 | RID: 3 | Acc: 0.991635799407959 | Exp rate : 0.4396568834781647 \n",
      "Epoch: 9 | RID: 4 | Acc: 0.863558292388916 | Exp rate : 6.58593819480302e-07 \n",
      "Epoch: 10 | RID: 0 | Acc: 0.9426448345184326 | Exp rate : 0.0 \n",
      "Epoch: 10 | RID: 1 | Acc: 0.9658894538879395 | Exp rate : 0.0 \n",
      "Epoch: 10 | RID: 2 | Acc: 0.461222380399704 | Exp rate : 2.8343162536621094 \n"
     ]
    },
    {
     "name": "stderr",
     "output_type": "stream",
     "text": [
      "wandb: Network error (ReadTimeout), entering retry loop.\n"
     ]
    },
    {
     "name": "stdout",
     "output_type": "stream",
     "text": [
      "Epoch: 10 | RID: 3 | Acc: 0.992411196231842 | Exp rate : 0.4914839565753937 \n",
      "Epoch: 10 | RID: 4 | Acc: 0.8635582327842712 | Exp rate : 1.386513304169057e-07 \n",
      "Epoch: 11 | RID: 0 | Acc: 0.9426448345184326 | Exp rate : 0.0 \n",
      "Epoch: 11 | RID: 1 | Acc: 0.9658894538879395 | Exp rate : 0.0 \n",
      "Epoch: 11 | RID: 2 | Acc: 0.5227153897285461 | Exp rate : 2.624958038330078 \n",
      "Epoch: 11 | RID: 3 | Acc: 0.993071973323822 | Exp rate : 0.5357611179351807 \n",
      "Epoch: 11 | RID: 4 | Acc: 0.8635582327842712 | Exp rate : 6.932566520845285e-08 \n",
      "Epoch: 12 | RID: 0 | Acc: 0.9426448345184326 | Exp rate : 0.0 \n",
      "Epoch: 12 | RID: 1 | Acc: 0.9658894538879395 | Exp rate : 0.0 \n",
      "Epoch: 12 | RID: 2 | Acc: 0.599791407585144 | Exp rate : 2.3625457286834717 \n",
      "Epoch: 12 | RID: 3 | Acc: 0.9935746192932129 | Exp rate : 0.5694421529769897 \n",
      "Epoch: 12 | RID: 4 | Acc: 0.8635582327842712 | Exp rate : 0.0 \n",
      "Epoch: 13 | RID: 0 | Acc: 0.9426448345184326 | Exp rate : 0.0 \n",
      "Epoch: 13 | RID: 1 | Acc: 0.9658894538879395 | Exp rate : 0.0 \n",
      "Epoch: 13 | RID: 2 | Acc: 0.6923007369041443 | Exp rate : 2.0475893020629883 \n",
      "Epoch: 13 | RID: 3 | Acc: 0.9939259886741638 | Exp rate : 0.5929926037788391 \n",
      "Epoch: 13 | RID: 4 | Acc: 0.8635582327842712 | Exp rate : 0.0 \n",
      "Epoch: 14 | RID: 0 | Acc: 0.9426448345184326 | Exp rate : 0.0 \n",
      "Epoch: 14 | RID: 1 | Acc: 0.9658894538879395 | Exp rate : 0.0 \n",
      "Epoch: 14 | RID: 2 | Acc: 0.7934786677360535 | Exp rate : 1.7031198740005493 \n",
      "Epoch: 14 | RID: 3 | Acc: 0.9941623210906982 | Exp rate : 0.6088232398033142 \n",
      "Epoch: 14 | RID: 4 | Acc: 0.8635582327842712 | Exp rate : 0.0 \n",
      "Epoch: 15 | RID: 0 | Acc: 0.9426448345184326 | Exp rate : 0.0 \n",
      "Epoch: 15 | RID: 1 | Acc: 0.9658894538879395 | Exp rate : 0.0 \n",
      "Epoch: 15 | RID: 2 | Acc: 0.8822082281112671 | Exp rate : 1.4010323286056519 \n",
      "Epoch: 15 | RID: 3 | Acc: 0.9943245649337769 | Exp rate : 0.6196935176849365 \n",
      "Epoch: 15 | RID: 4 | Acc: 0.8635582327842712 | Exp rate : 0.0 \n",
      "Epoch: 16 | RID: 0 | Acc: 0.9426448345184326 | Exp rate : 0.0 \n",
      "Epoch: 16 | RID: 1 | Acc: 0.9658894538879395 | Exp rate : 0.0 \n",
      "Epoch: 16 | RID: 2 | Acc: 0.938829243183136 | Exp rate : 1.2082611322402954 \n",
      "Epoch: 16 | RID: 3 | Acc: 0.9944549798965454 | Exp rate : 0.6284356713294983 \n",
      "Epoch: 16 | RID: 4 | Acc: 0.8635582327842712 | Exp rate : 0.0 \n"
     ]
    }
   ],
   "source": [
    "import matplotlib.pyplot as plt\n",
    "\n",
    "# Create binary dense matrix for relation type == 1\n",
    "\n",
    "train_links_truth = torch.sparse_coo_tensor(edge_indices_train, edge_types_train, (N_NODES,N_NODES) ).to_dense().float()\n",
    "# test_links_truth = torch.sparse_coo_tensor(Xi_test[:,test_f], Xr_test[test_f], (N_NODES,N_NODES)).to_dense().float()\n",
    "\n",
    "criterion = torch.nn.BCEWithLogitsLoss()\n",
    "optimizer = torch.optim.Adam(rgcn.parameters(), lr=wandb.config['learning_rate'])\n",
    "\n",
    "def score_reconstruction(edge_scores, edge_tags, edge_tags_truth):\n",
    "    loss = criterion(edge_scores, edge_tags_truth)\n",
    "    acc = ( 1 - (edge_tags - edge_tags_truth).abs()).sum() / (N_NODES**2)\n",
    "    return loss, acc\n",
    "\n",
    "for epoch in range(wandb.config['epochs']):\n",
    "    perm = torch.randperm(edge_indices_train.size(0))\n",
    "    idx = perm[:edge_indices_train.size(0) * 7 // 10]\n",
    "    edge_indices_sample = edge_indices_train[:,idx]\n",
    "    edge_types_sample = edge_types_train[idx]\n",
    "    nodes_embeddings = rgcn(None, edge_indices_sample, edge_types_sample)\n",
    "    optimizer.zero_grad()\n",
    "    # edges_scores = torch.zeros((N_RELATIONS, N_NODES, N_NODES))\n",
    "    tot_loss = torch.zeros(1)\n",
    "    avg_acc, avg_exp = 0, 0\n",
    "    for r_id, r_mat in enumerate(r_matrices):\n",
    "\n",
    "        # print(f'relation {r_id}')\n",
    "        edge_scores = nodes_embeddings @ r_mat @ nodes_embeddings.T\n",
    "        # print('scored', edge_scores)\n",
    "        edge_tags = edge_scores.sigmoid().round()\n",
    "        # print('tagged', edge_tags)\n",
    "\n",
    "        r_indices = edge_indices_train  [:, edge_types_train == r_id]\n",
    "        edge_tags_truth = torch.zeros((N_NODES, N_NODES))\n",
    "        edge_tags_truth[r_indices] = 1\n",
    "        expansion = edge_tags.sum()/ edge_tags_truth.sum()\n",
    "        loss, acc = score_reconstruction(edge_scores, edge_tags, edge_tags_truth)\n",
    "        \n",
    "        tot_loss += loss\n",
    "        avg_acc += (avg_acc * (r_id - 1) + acc ) / r_id\n",
    "        avg_exp += (avg_exp * (r_id - 1) + expansion ) / r_id\n",
    "        print(f\"Epoch: {epoch} | RID: {r_id} | Acc: {acc} | Exp rate : {expansion} \")\n",
    "\n",
    "        if r_id > 3:\n",
    "            break\n",
    "\n",
    "    tot_loss.backward()\n",
    "    optimizer.step()\n",
    "    \n",
    "    wandb.log({\"loss\": tot_loss})\n",
    "    wandb.log({\"accuracy\": avg_acc})\n",
    "    wandb.log({\"expansion\": avg_exp})\n"
   ]
  },
  {
   "cell_type": "code",
   "execution_count": null,
   "metadata": {},
   "outputs": [],
   "source": []
  }
 ],
 "metadata": {
  "interpreter": {
   "hash": "c6a7f5f1fbe7c494e2646c81a6634948a4e3403bd00341581b3ab0a79caa9e66"
  },
  "kernelspec": {
   "display_name": "Python 3.9.9 64-bit ('venv': venv)",
   "language": "python",
   "name": "python3"
  },
  "language_info": {
   "codemirror_mode": {
    "name": "ipython",
    "version": 3
   },
   "file_extension": ".py",
   "mimetype": "text/x-python",
   "name": "python",
   "nbconvert_exporter": "python",
   "pygments_lexer": "ipython3",
   "version": "3.9.9"
  },
  "orig_nbformat": 4
 },
 "nbformat": 4,
 "nbformat_minor": 2
}
